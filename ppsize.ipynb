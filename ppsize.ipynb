{
 "cells": [
  {
   "cell_type": "code",
   "execution_count": 1,
   "id": "4b9bb11f",
   "metadata": {},
   "outputs": [
    {
     "name": "stdout",
     "output_type": "stream",
     "text": [
      "What's your pp size!!\n",
      "shh it will be a secret \n",
      "\n",
      ">> 4\n",
      "4.0 inches,!! erected or without erection?\n"
     ]
    }
   ],
   "source": [
    "# I was just bored and wanted to practice the if-else-elif statement I just learned\n",
    "# so I made this fun line of code for this\n",
    "# do get offended if you must as this are my views!!\n",
    "\n",
    "def ppsize():\n",
    "    if siz < 1:\n",
    "        return \"You kidding me right?\\n Right!!\"\n",
    "    elif siz < 2:\n",
    "        return f' {sizee},!! You a fuckin child or what mate?'\n",
    "    elif siz < 3:\n",
    "        return f\" {sizee},!! That didn't quite grew.. did it?\"\n",
    "    elif siz < 4:\n",
    "        return f\" {sizee},!! You are barely there young man\"\n",
    "    elif siz < 5:\n",
    "        return f\"{sizee},!! erected or without erection?\"\n",
    "    elif siz < 6:\n",
    "        return f\"{sizee},!! Ahh she starts to feel it..\"\n",
    "    elif siz < 7:\n",
    "        return f\"{sizee},!! uhh average\"\n",
    "    elif siz < 8:\n",
    "        return f\"{sizee},!! that's the golden number ma man\"\n",
    "    elif siz < 9:\n",
    "        return f\"{sizee},!! IT's started hurting.. Ahh..\"\n",
    "    elif siz < 10:\n",
    "        return f\"{sizee},!! You monster\"\n",
    "\n",
    "    else:\n",
    "        return \"That's out of my scale\"\n",
    "\n",
    "\n",
    "try:\n",
    "    siz = float(input(\"What's your pp size!!\\nshh it will be a secret \\n\\n>> \"))\n",
    "    sizee = f'{siz} inches'\n",
    "    size = sizee\n",
    "except:\n",
    "    print(\"Please put a numeric value.. Bitch!!\\n have some fuckin sence\")\n",
    "    quit()\n",
    "\n",
    "print(ppsize())\n",
    "\n",
    "quit()"
   ]
  },
  {
   "cell_type": "code",
   "execution_count": null,
   "id": "077970f4",
   "metadata": {},
   "outputs": [],
   "source": []
  }
 ],
 "metadata": {
  "kernelspec": {
   "display_name": "Python 3 (ipykernel)",
   "language": "python",
   "name": "python3"
  },
  "language_info": {
   "codemirror_mode": {
    "name": "ipython",
    "version": 3
   },
   "file_extension": ".py",
   "mimetype": "text/x-python",
   "name": "python",
   "nbconvert_exporter": "python",
   "pygments_lexer": "ipython3",
   "version": "3.10.8"
  }
 },
 "nbformat": 4,
 "nbformat_minor": 5
}
